{
 "cells": [
  {
   "cell_type": "markdown",
   "id": "7572dee0-eb25-4856-b8ec-44172f2b14cd",
   "metadata": {},
   "source": [
    "# HW0 — GaN CSV URL collection\n",
    "Author: Soujanya Choppala  \n",
    "Course: MCIS6273 (SAU Fall 2025)\n",
    "\n",
    "This notebook scrapes the *Globe at Night* maps-data page for CSV links that contain \"GaN\" and a year, then writes full URLs to `data/gan_urls.txt`.\n"
   ]
  },
  {
   "cell_type": "code",
   "execution_count": 1,
   "id": "bc262e91-e68b-4be7-9e61-d1973db60af8",
   "metadata": {},
   "outputs": [
    {
     "name": "stdout",
     "output_type": "stream",
     "text": [
      "ready\n"
     ]
    }
   ],
   "source": [
    "import sys, subprocess, pkgutil\n",
    "\n",
    "def pip_install(pkg):\n",
    "    if pkg not in {m.name for m in pkgutil.iter_modules()}:\n",
    "        subprocess.check_call([sys.executable, \"-m\", \"pip\", \"install\", \"--quiet\", pkg])\n",
    "\n",
    "for p in [\"requests\", \"beautifulsoup4\"]:\n",
    "    pip_install(p)\n",
    "\n",
    "print(\"ready\")\n"
   ]
  },
  {
   "cell_type": "code",
   "execution_count": 2,
   "id": "fbcf9216-15e0-4e55-8289-a00648165b91",
   "metadata": {},
   "outputs": [
    {
     "data": {
      "text/plain": [
       "(PosixPath('/home/jovyan/mcis6273-f25-datamining'),\n",
       " PosixPath('/home/jovyan/mcis6273-f25-datamining/data'),\n",
       " PosixPath('/home/jovyan/mcis6273-f25-datamining/data/gan_urls.txt'))"
      ]
     },
     "execution_count": 2,
     "metadata": {},
     "output_type": "execute_result"
    }
   ],
   "source": [
    "import re\n",
    "from pathlib import Path\n",
    "import requests\n",
    "from bs4 import BeautifulSoup\n",
    "\n",
    "# Point directly to your repo root (adjust if your folder name differs)\n",
    "REPO_ROOT = Path(\"/home/jovyan/mcis6273-f25-datamining\")\n",
    "DATA_DIR = REPO_ROOT / \"data\"\n",
    "DATA_DIR.mkdir(exist_ok=True)\n",
    "OUTFILE = DATA_DIR / \"gan_urls.txt\"\n",
    "\n",
    "REPO_ROOT, DATA_DIR, OUTFILE\n"
   ]
  },
  {
   "cell_type": "code",
   "execution_count": 3,
   "id": "5bf42517-2e13-4711-9655-850d4f89cb36",
   "metadata": {},
   "outputs": [
    {
     "name": "stdout",
     "output_type": "stream",
     "text": [
      "Page title: \n",
      "    \n",
      "      Maps & Data\n",
      "    \n",
      "    \n",
      "      \n",
      "      - Globe At Night\n",
      "    \n",
      "  \n",
      "Found 19 CSV URLs\n"
     ]
    },
    {
     "data": {
      "text/plain": [
       "['https://globeatnight.org/documents/926/GaN2024.csv',\n",
       " 'https://globeatnight.org/documents/661/GaN2023.csv',\n",
       " 'https://globeatnight.org/documents/662/GaN2022.csv',\n",
       " 'https://globeatnight.org/documents/663/GaN2021.csv',\n",
       " 'https://globeatnight.org/documents/679/GaN2020.csv',\n",
       " 'https://globeatnight.org/documents/665/GaN2019.csv',\n",
       " 'https://globeatnight.org/documents/666/GaN2018.csv',\n",
       " 'https://globeatnight.org/documents/667/GaN2017.csv',\n",
       " 'https://globeatnight.org/documents/668/GaN2016.csv',\n",
       " 'https://globeatnight.org/documents/669/GaN2015.csv']"
      ]
     },
     "execution_count": 3,
     "metadata": {},
     "output_type": "execute_result"
    }
   ],
   "source": [
    "# Step 1: fetch the web page and create soup\n",
    "URL = \"https://globeatnight.org/maps-data/\"\n",
    "resp = requests.get(URL, timeout=30)\n",
    "resp.raise_for_status()\n",
    "\n",
    "soup = BeautifulSoup(resp.content, \"html.parser\")\n",
    "print(\"Page title:\", soup.title.string if soup.title else \"(none)\")\n",
    "\n",
    "# Step 2: find the CSV links using a broader regex\n",
    "# Match /documents/... with \"GaN\" (case-insensitive) and a year (20xx) in the name\n",
    "pat = re.compile(r\"/documents/.*gan.*20\\d{2}.*\\.csv\", re.IGNORECASE)\n",
    "\n",
    "candidates = []\n",
    "for a in soup.select(\"a[href]\"):\n",
    "    href = a[\"href\"].strip()\n",
    "    if pat.search(href):\n",
    "        candidates.append(\"https://globeatnight.org\" + href)\n",
    "\n",
    "# Deduplicate while preserving order\n",
    "urls = list(dict.fromkeys(candidates))\n",
    "\n",
    "print(\"Found\", len(urls), \"CSV URLs\")\n",
    "urls[:10]\n"
   ]
  },
  {
   "cell_type": "code",
   "execution_count": 4,
   "id": "ca7d4fc2-439b-44b8-9dcc-aec57aee6f7e",
   "metadata": {},
   "outputs": [
    {
     "name": "stdout",
     "output_type": "stream",
     "text": [
      "Wrote 19 URLs to data/gan_urls.txt\n"
     ]
    }
   ],
   "source": [
    "OUTFILE.write_text(\"\\n\".join(urls) + (\"\\n\" if urls else \"\"))\n",
    "print(f\"Wrote {len(urls)} URLs to {OUTFILE.relative_to(REPO_ROOT)}\")\n"
   ]
  },
  {
   "cell_type": "code",
   "execution_count": 5,
   "id": "6985e9f8-47ae-4fdf-8e4b-2baa96982e00",
   "metadata": {},
   "outputs": [
    {
     "name": "stdout",
     "output_type": "stream",
     "text": [
      "Lines in file: 19\n",
      "Sample: ['https://globeatnight.org/documents/926/GaN2024.csv', 'https://globeatnight.org/documents/661/GaN2023.csv', 'https://globeatnight.org/documents/662/GaN2022.csv', 'https://globeatnight.org/documents/663/GaN2021.csv', 'https://globeatnight.org/documents/679/GaN2020.csv']\n"
     ]
    }
   ],
   "source": [
    "lines = OUTFILE.read_text().splitlines()\n",
    "assert all(u.startswith(\"https://globeatnight.org/\") for u in lines), \"Non-absolute URL found\"\n",
    "print(\"Lines in file:\", len(lines))\n",
    "print(\"Sample:\", lines[:5])\n"
   ]
  }
 ],
 "metadata": {
  "kernelspec": {
   "display_name": "Python [conda env:base] *",
   "language": "python",
   "name": "conda-base-py"
  },
  "language_info": {
   "codemirror_mode": {
    "name": "ipython",
    "version": 3
   },
   "file_extension": ".py",
   "mimetype": "text/x-python",
   "name": "python",
   "nbconvert_exporter": "python",
   "pygments_lexer": "ipython3",
   "version": "3.12.11"
  }
 },
 "nbformat": 4,
 "nbformat_minor": 5
}
